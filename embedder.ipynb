{
 "cells": [
  {
   "cell_type": "markdown",
   "source": [
    "# Requirements"
   ],
   "metadata": {
    "collapsed": false
   },
   "id": "138421a6c861b324"
  },
  {
   "cell_type": "code",
   "execution_count": 1,
   "id": "initial_id",
   "metadata": {
    "collapsed": true,
    "ExecuteTime": {
     "end_time": "2024-06-26T09:56:49.758605600Z",
     "start_time": "2024-06-26T09:56:46.318176900Z"
    }
   },
   "outputs": [],
   "source": [
    "import os\n",
    "import hickle as hkl\n",
    "import h5py\n",
    "import numpy as np\n",
    "import requests\n",
    "import time\n",
    "import concurrent.futures\n",
    "import pandas as pd"
   ]
  },
  {
   "cell_type": "markdown",
   "source": [
    "---\n",
    "# save links to a file"
   ],
   "metadata": {
    "collapsed": false
   },
   "id": "7434c92b5e6e2e65"
  },
  {
   "cell_type": "code",
   "outputs": [],
   "source": [
    "df = pd.read_csv('Datasets/Air Conditioners.csv')\n",
    "img_urls = df['image'].values\n",
    "np.savetxt('images/img_urls.txt', img_urls, fmt='%s')"
   ],
   "metadata": {
    "collapsed": false,
    "ExecuteTime": {
     "end_time": "2024-06-26T09:59:10.114802700Z",
     "start_time": "2024-06-26T09:59:10.088539500Z"
    }
   },
   "id": "bfaead13740b7d0a",
   "execution_count": 4
  },
  {
   "cell_type": "code",
   "outputs": [],
   "source": [
    "with open('images/img_urls.txt', 'r') as url_list:\n",
    "    img_urls = [str(line) for line in url_list.readlines() if line[-2] != 'f']"
   ],
   "metadata": {
    "collapsed": false,
    "ExecuteTime": {
     "end_time": "2024-06-26T09:59:11.683715800Z",
     "start_time": "2024-06-26T09:59:11.657298400Z"
    }
   },
   "id": "29820e355652f60a",
   "execution_count": 5
  },
  {
   "cell_type": "markdown",
   "source": [
    "---\n",
    "# download images"
   ],
   "metadata": {
    "collapsed": false
   },
   "id": "f55a579ea957a0ed"
  },
  {
   "cell_type": "markdown",
   "source": [
    "### Store images in the dataset"
   ],
   "metadata": {
    "collapsed": false
   },
   "id": "32fbbd4e3e21a0e5"
  },
  {
   "cell_type": "code",
   "outputs": [],
   "source": [
    "def store(dataset, meta_set, img, img_name):\n",
    "    dataset[img_name] = img\n",
    "    meta_set[img_name] = img_name"
   ],
   "metadata": {
    "collapsed": false,
    "ExecuteTime": {
     "end_time": "2024-06-26T10:25:55.396291300Z",
     "start_time": "2024-06-26T10:25:55.382751300Z"
    }
   },
   "id": "f0abc0dca0e71730",
   "execution_count": 49
  },
  {
   "cell_type": "code",
   "outputs": [],
   "source": [
    "def download_image(dataset, meta_set, img_url):\n",
    "    img_bytes = requests.get(img_url).content\n",
    "    img_name = img_url.split('/')[3]\n",
    "    img_name = f'{img_name}.jpg'\n",
    "    img = np.frombuffer(img_bytes, np.uint8)\n",
    "    \n",
    "    # # store img\n",
    "    # store(dataset, meta_set, img, img_name)"
   ],
   "metadata": {
    "collapsed": false
   },
   "id": "9bbe8ea282499c3b",
   "execution_count": 50
  },
  {
   "cell_type": "code",
   "outputs": [],
   "source": [
    "size = len(img_urls)\n",
    "# []\n",
    "imgs = [] * \n",
    "with h5py.File('images/images.h5', 'w') as hf:\n",
    "    dataset = hf.create_dataset(\"images\", np.shape(size))\n",
    "    meta_set = hf.create_dataset(\"meta\", np.shape(size))\n",
    "    for url in img_urls:\n",
    "        download_image(dataset, meta_set, url)"
   ],
   "metadata": {
    "collapsed": false
   },
   "id": "2d8f87606022cbe3",
   "execution_count": 0
  }
 ],
 "metadata": {
  "kernelspec": {
   "display_name": "Python 3",
   "language": "python",
   "name": "python3"
  },
  "language_info": {
   "codemirror_mode": {
    "name": "ipython",
    "version": 2
   },
   "file_extension": ".py",
   "mimetype": "text/x-python",
   "name": "python",
   "nbconvert_exporter": "python",
   "pygments_lexer": "ipython2",
   "version": "2.7.6"
  }
 },
 "nbformat": 4,
 "nbformat_minor": 5
}
