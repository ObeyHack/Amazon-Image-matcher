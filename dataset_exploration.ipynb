{
 "cells": [
  {
   "cell_type": "markdown",
   "source": [
    "# Requirements"
   ],
   "metadata": {
    "collapsed": false
   },
   "id": "a43ea327c14e3a2e"
  },
  {
   "cell_type": "code",
   "outputs": [],
   "source": [
    "import zipfile\n",
    "import pandas as pd\n",
    "import os\n",
    "import glob"
   ],
   "metadata": {
    "collapsed": false,
    "ExecuteTime": {
     "end_time": "2024-06-23T08:36:11.013520100Z",
     "start_time": "2024-06-23T08:36:10.127271900Z"
    }
   },
   "id": "18a54e084db38531",
   "execution_count": 7
  },
  {
   "cell_type": "markdown",
   "source": [
    "# Unzipping the dataset"
   ],
   "metadata": {
    "collapsed": false
   },
   "id": "9ba22b1621347e6b"
  },
  {
   "cell_type": "code",
   "outputs": [],
   "source": [
    "with zipfile.ZipFile(\"Datasets/archive.zip\", 'r') as zip_ref:\n",
    "    zip_ref.extractall(\"Datasets\")"
   ],
   "metadata": {
    "collapsed": false,
    "ExecuteTime": {
     "end_time": "2024-06-23T08:32:42.781192800Z",
     "start_time": "2024-06-23T08:32:40.738546500Z"
    }
   },
   "id": "94cd6bc1f14cf2f",
   "execution_count": 5
  },
  {
   "cell_type": "markdown",
   "source": [
    "# Reading the csv"
   ],
   "metadata": {
    "collapsed": false
   },
   "id": "9125706d86594f1f"
  },
  {
   "cell_type": "code",
   "outputs": [],
   "source": [
    "path = os.getcwd() + \"/Datasets\"\n",
    "csv_files = glob.glob(os.path.join(path, \"*.csv\")) \n",
    "csv_dfs = {}\n",
    "for f in csv_files: \n",
    "    file_name = f.split(\"\\\\\")[-1]\n",
    "    # read the csv file \n",
    "    df = pd.read_csv(f)\n",
    "    csv_dfs[file_name] = df"
   ],
   "metadata": {
    "collapsed": false,
    "ExecuteTime": {
     "end_time": "2024-06-23T08:38:39.934099800Z",
     "start_time": "2024-06-23T08:38:32.074699500Z"
    }
   },
   "id": "d17f8a8cd5c8c7c8",
   "execution_count": 14
  },
  {
   "cell_type": "markdown",
   "source": [
    "## Usage"
   ],
   "metadata": {
    "collapsed": false
   },
   "id": "9ccce3e2eb6033cc"
  },
  {
   "cell_type": "code",
   "outputs": [
    {
     "data": {
      "text/plain": "                                                   name main_category  \\\n0     Aqualogica Glow+ Dewy Sunscreen SPF 50 PA+++ F...        stores   \n1     MARVIK Soft Silicone Adjustable Band Strap Com...        stores   \n2     108 Panchatantra Stories for Children (Illustr...        stores   \n3     Black and White and Blue: Adult Cinema From th...        stores   \n4     SAFARI 15 Ltrs Sea Blue Casual/School/College ...        stores   \n...                                                 ...           ...   \n2347  Lakme Lip Love Gelato Lip Balm - Pink, Bubbleg...        stores   \n2348  SATTVA Classy.Elegant.Stylish Classic XXXL Bea...        stores   \n2349  Fastrack Glitch Analog Rose Gold Dial Women's ...        stores   \n2350  NAINVISH Women/Girl's Pure Cotton Paisley Prin...        stores   \n2351  Tupperware Aquasafe Xtreme Plastic Bottle, 1L,...        stores   \n\n        sub_category                                              image  \\\n0     Amazon Fashion  https://m.media-amazon.com/images/I/51TSC6Uogx...   \n1     Amazon Fashion  https://m.media-amazon.com/images/I/51vYDop04S...   \n2     Amazon Fashion  https://m.media-amazon.com/images/I/81VJ+MAc7Y...   \n3     Amazon Fashion  https://m.media-amazon.com/images/I/51RIhaW3t1...   \n4     Amazon Fashion  https://m.media-amazon.com/images/I/61kmCas5OC...   \n...              ...                                                ...   \n2347  Amazon Fashion  https://m.media-amazon.com/images/I/61lc+uAfF0...   \n2348  Amazon Fashion  https://m.media-amazon.com/images/I/71zaq78pO8...   \n2349  Amazon Fashion  https://m.media-amazon.com/images/I/61B+fqeyzj...   \n2350  Amazon Fashion  https://m.media-amazon.com/images/I/81qATlsYzk...   \n2351  Amazon Fashion  https://m.media-amazon.com/images/I/51z7AvKIml...   \n\n                                                   link ratings no_of_ratings  \\\n0     https://www.amazon.in/Aqualogica-Sunscreen-Pro...     4.2         3,628   \n1     https://www.amazon.in/MARVIK-Silicone-Adjustab...     3.9           291   \n2     https://www.amazon.in/108-Panchatantra-Stories...     4.4         2,950   \n3     https://www.amazon.in/Black-White-Blue-Cinema-...     4.2             8   \n4     https://www.amazon.in/SAFARI-Ltrs-Casual-Backp...     4.0        17,985   \n...                                                 ...     ...           ...   \n2347  https://www.amazon.in/LAKM%C3%89-Love-Gelato-C...     4.1           515   \n2348  https://www.amazon.in/Sattva-Classic-Filled-Be...     4.2            10   \n2349  https://www.amazon.in/Fastrack-Glitch-Analog-W...     3.5            16   \n2350  https://www.amazon.in/NAINVISH-Cotton-Paisley-...     3.4           318   \n2351  https://www.amazon.in/Tupperware-Aquasafe-Xtre...     4.6         2,741   \n\n     discount_price actual_price  \n0              ₹351         ₹399  \n1              ₹249         ₹999  \n2              ₹125         ₹160  \n3               NaN      ₹584.16  \n4              ₹299         ₹799  \n...             ...          ...  \n2347           ₹148         ₹199  \n2348         ₹2,170       ₹4,299  \n2349            NaN       ₹5,595  \n2350           ₹499       ₹2,599  \n2351           ₹666         ₹695  \n\n[2352 rows x 9 columns]",
      "text/html": "<div>\n<style scoped>\n    .dataframe tbody tr th:only-of-type {\n        vertical-align: middle;\n    }\n\n    .dataframe tbody tr th {\n        vertical-align: top;\n    }\n\n    .dataframe thead th {\n        text-align: right;\n    }\n</style>\n<table border=\"1\" class=\"dataframe\">\n  <thead>\n    <tr style=\"text-align: right;\">\n      <th></th>\n      <th>name</th>\n      <th>main_category</th>\n      <th>sub_category</th>\n      <th>image</th>\n      <th>link</th>\n      <th>ratings</th>\n      <th>no_of_ratings</th>\n      <th>discount_price</th>\n      <th>actual_price</th>\n    </tr>\n  </thead>\n  <tbody>\n    <tr>\n      <th>0</th>\n      <td>Aqualogica Glow+ Dewy Sunscreen SPF 50 PA+++ F...</td>\n      <td>stores</td>\n      <td>Amazon Fashion</td>\n      <td>https://m.media-amazon.com/images/I/51TSC6Uogx...</td>\n      <td>https://www.amazon.in/Aqualogica-Sunscreen-Pro...</td>\n      <td>4.2</td>\n      <td>3,628</td>\n      <td>₹351</td>\n      <td>₹399</td>\n    </tr>\n    <tr>\n      <th>1</th>\n      <td>MARVIK Soft Silicone Adjustable Band Strap Com...</td>\n      <td>stores</td>\n      <td>Amazon Fashion</td>\n      <td>https://m.media-amazon.com/images/I/51vYDop04S...</td>\n      <td>https://www.amazon.in/MARVIK-Silicone-Adjustab...</td>\n      <td>3.9</td>\n      <td>291</td>\n      <td>₹249</td>\n      <td>₹999</td>\n    </tr>\n    <tr>\n      <th>2</th>\n      <td>108 Panchatantra Stories for Children (Illustr...</td>\n      <td>stores</td>\n      <td>Amazon Fashion</td>\n      <td>https://m.media-amazon.com/images/I/81VJ+MAc7Y...</td>\n      <td>https://www.amazon.in/108-Panchatantra-Stories...</td>\n      <td>4.4</td>\n      <td>2,950</td>\n      <td>₹125</td>\n      <td>₹160</td>\n    </tr>\n    <tr>\n      <th>3</th>\n      <td>Black and White and Blue: Adult Cinema From th...</td>\n      <td>stores</td>\n      <td>Amazon Fashion</td>\n      <td>https://m.media-amazon.com/images/I/51RIhaW3t1...</td>\n      <td>https://www.amazon.in/Black-White-Blue-Cinema-...</td>\n      <td>4.2</td>\n      <td>8</td>\n      <td>NaN</td>\n      <td>₹584.16</td>\n    </tr>\n    <tr>\n      <th>4</th>\n      <td>SAFARI 15 Ltrs Sea Blue Casual/School/College ...</td>\n      <td>stores</td>\n      <td>Amazon Fashion</td>\n      <td>https://m.media-amazon.com/images/I/61kmCas5OC...</td>\n      <td>https://www.amazon.in/SAFARI-Ltrs-Casual-Backp...</td>\n      <td>4.0</td>\n      <td>17,985</td>\n      <td>₹299</td>\n      <td>₹799</td>\n    </tr>\n    <tr>\n      <th>...</th>\n      <td>...</td>\n      <td>...</td>\n      <td>...</td>\n      <td>...</td>\n      <td>...</td>\n      <td>...</td>\n      <td>...</td>\n      <td>...</td>\n      <td>...</td>\n    </tr>\n    <tr>\n      <th>2347</th>\n      <td>Lakme Lip Love Gelato Lip Balm - Pink, Bubbleg...</td>\n      <td>stores</td>\n      <td>Amazon Fashion</td>\n      <td>https://m.media-amazon.com/images/I/61lc+uAfF0...</td>\n      <td>https://www.amazon.in/LAKM%C3%89-Love-Gelato-C...</td>\n      <td>4.1</td>\n      <td>515</td>\n      <td>₹148</td>\n      <td>₹199</td>\n    </tr>\n    <tr>\n      <th>2348</th>\n      <td>SATTVA Classy.Elegant.Stylish Classic XXXL Bea...</td>\n      <td>stores</td>\n      <td>Amazon Fashion</td>\n      <td>https://m.media-amazon.com/images/I/71zaq78pO8...</td>\n      <td>https://www.amazon.in/Sattva-Classic-Filled-Be...</td>\n      <td>4.2</td>\n      <td>10</td>\n      <td>₹2,170</td>\n      <td>₹4,299</td>\n    </tr>\n    <tr>\n      <th>2349</th>\n      <td>Fastrack Glitch Analog Rose Gold Dial Women's ...</td>\n      <td>stores</td>\n      <td>Amazon Fashion</td>\n      <td>https://m.media-amazon.com/images/I/61B+fqeyzj...</td>\n      <td>https://www.amazon.in/Fastrack-Glitch-Analog-W...</td>\n      <td>3.5</td>\n      <td>16</td>\n      <td>NaN</td>\n      <td>₹5,595</td>\n    </tr>\n    <tr>\n      <th>2350</th>\n      <td>NAINVISH Women/Girl's Pure Cotton Paisley Prin...</td>\n      <td>stores</td>\n      <td>Amazon Fashion</td>\n      <td>https://m.media-amazon.com/images/I/81qATlsYzk...</td>\n      <td>https://www.amazon.in/NAINVISH-Cotton-Paisley-...</td>\n      <td>3.4</td>\n      <td>318</td>\n      <td>₹499</td>\n      <td>₹2,599</td>\n    </tr>\n    <tr>\n      <th>2351</th>\n      <td>Tupperware Aquasafe Xtreme Plastic Bottle, 1L,...</td>\n      <td>stores</td>\n      <td>Amazon Fashion</td>\n      <td>https://m.media-amazon.com/images/I/51z7AvKIml...</td>\n      <td>https://www.amazon.in/Tupperware-Aquasafe-Xtre...</td>\n      <td>4.6</td>\n      <td>2,741</td>\n      <td>₹666</td>\n      <td>₹695</td>\n    </tr>\n  </tbody>\n</table>\n<p>2352 rows × 9 columns</p>\n</div>"
     },
     "metadata": {},
     "output_type": "display_data"
    }
   ],
   "source": [
    "display(csv_dfs[\"Amazon Fashion.csv\"])"
   ],
   "metadata": {
    "collapsed": false,
    "ExecuteTime": {
     "end_time": "2024-06-23T08:39:12.617937800Z",
     "start_time": "2024-06-23T08:39:12.586920800Z"
    }
   },
   "id": "c58a4a6de7b75851",
   "execution_count": 15
  },
  {
   "metadata": {},
   "cell_type": "markdown",
   "source": [
    "---\n",
    "# Visualizing the data"
   ],
   "id": "6c3f16463776459e"
  },
  {
   "metadata": {},
   "cell_type": "markdown",
   "source": [
    "---\n",
    "### Reality Check"
   ],
   "id": "4ac104ecdab78eac"
  },
  {
   "metadata": {},
   "cell_type": "code",
   "outputs": [],
   "execution_count": null,
   "source": "",
   "id": "3125db6cd659f859"
  },
  {
   "cell_type": "markdown",
   "source": [
    "---\n",
    "### Exploration"
   ],
   "metadata": {
    "collapsed": false
   },
   "id": "1310d81c0ce2294e"
  },
  {
   "cell_type": "code",
   "outputs": [],
   "source": [],
   "metadata": {
    "collapsed": false
   },
   "id": "c1b693c3b49111e3",
   "execution_count": null
  }
 ],
 "metadata": {
  "kernelspec": {
   "display_name": "Python 3",
   "language": "python",
   "name": "python3"
  },
  "language_info": {
   "codemirror_mode": {
    "name": "ipython",
    "version": 2
   },
   "file_extension": ".py",
   "mimetype": "text/x-python",
   "name": "python",
   "nbconvert_exporter": "python",
   "pygments_lexer": "ipython2",
   "version": "2.7.6"
  }
 },
 "nbformat": 4,
 "nbformat_minor": 5
}
