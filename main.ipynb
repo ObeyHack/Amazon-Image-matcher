{
 "cells": [
  {
   "cell_type": "code",
   "outputs": [],
   "source": [
    "import zipfile"
   ],
   "metadata": {
    "collapsed": false,
    "ExecuteTime": {
     "end_time": "2024-06-23T08:28:53.720749400Z",
     "start_time": "2024-06-23T08:28:53.706709600Z"
    }
   },
   "id": "18a54e084db38531",
   "execution_count": 2
  },
  {
   "cell_type": "code",
   "outputs": [],
   "source": [
    "with zipfile.ZipFile(\"Datasets/archive.zip\", 'r') as zip_ref:\n",
    "    zip_ref.extractall(\"Datasets\")"
   ],
   "metadata": {
    "collapsed": false,
    "ExecuteTime": {
     "end_time": "2024-06-23T08:28:57.171493700Z",
     "start_time": "2024-06-23T08:28:54.944111400Z"
    }
   },
   "id": "94cd6bc1f14cf2f",
   "execution_count": 3
  }
 ],
 "metadata": {
  "kernelspec": {
   "display_name": "Python 3",
   "language": "python",
   "name": "python3"
  },
  "language_info": {
   "codemirror_mode": {
    "name": "ipython",
    "version": 2
   },
   "file_extension": ".py",
   "mimetype": "text/x-python",
   "name": "python",
   "nbconvert_exporter": "python",
   "pygments_lexer": "ipython2",
   "version": "2.7.6"
  }
 },
 "nbformat": 4,
 "nbformat_minor": 5
}
