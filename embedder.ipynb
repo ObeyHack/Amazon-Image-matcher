{
 "cells": [
  {
   "cell_type": "markdown",
   "source": [
    "# Requirements"
   ],
   "metadata": {
    "collapsed": false
   },
   "id": "138421a6c861b324"
  },
  {
   "cell_type": "code",
   "execution_count": 1,
   "id": "initial_id",
   "metadata": {
    "collapsed": true,
    "ExecuteTime": {
     "end_time": "2024-06-29T19:58:10.852785600Z",
     "start_time": "2024-06-29T19:58:03.617715200Z"
    }
   },
   "outputs": [],
   "source": [
    "import os\n",
    "import hickle as hkl\n",
    "import requests\n",
    "import h5py\n",
    "import gzip\n",
    "import numpy as np\n",
    "import pandas as pd\n",
    "from tqdm.auto import tqdm\n",
    "import glob\n",
    "from VGG import get_image_embeddings, load_image_bytes, load_image, get_score"
   ]
  },
  {
   "cell_type": "markdown",
   "source": [
    "# Reading the csv"
   ],
   "metadata": {
    "collapsed": false
   },
   "id": "85667c113c65faf3"
  },
  {
   "cell_type": "code",
   "outputs": [],
   "source": [
    "tqdm.pandas()\n",
    "path = os.getcwd() + \"/Datasets\"\n",
    "csv_files = glob.glob(os.path.join(path, \"*.csv\"))\n",
    "csv_dfs = {}\n",
    "for f in csv_files:\n",
    "    file_name = f.split(\"\\\\\")[-1]\n",
    "    \n",
    "    # remove the .csv extension\n",
    "    file_name = file_name[:-4]\n",
    "    \n",
    "    if file_name == \"Amazon-Products\":\n",
    "        continue\n",
    "    \n",
    "    # read the csv file \n",
    "    df = pd.read_csv(f)\n",
    "    csv_dfs[file_name] = df"
   ],
   "metadata": {
    "collapsed": false,
    "ExecuteTime": {
     "end_time": "2024-06-29T19:58:14.589286500Z",
     "start_time": "2024-06-29T19:58:10.860779500Z"
    }
   },
   "id": "96dc3716b614b816",
   "execution_count": 2
  },
  {
   "cell_type": "markdown",
   "source": [
    "---\n",
    "# Saving the images embedding\n",
    "\n",
    "we take the entire dataset Amazon-Products.csv and save the numpy vectors embeddings of the images in the dataset to a gzip file."
   ],
   "metadata": {
    "collapsed": false
   },
   "id": "295464ec00cf59c1"
  },
  {
   "cell_type": "code",
   "outputs": [],
   "source": [
    "# download image\n",
    "def download_image(url):\n",
    "    response = requests.get(url)\n",
    "    if response.status_code != 200:\n",
    "        return None\n",
    "    img_data = response.content\n",
    "    return img_data"
   ],
   "metadata": {
    "collapsed": false,
    "ExecuteTime": {
     "end_time": "2024-06-29T19:58:14.591303900Z",
     "start_time": "2024-06-29T19:58:14.575765Z"
    }
   },
   "id": "f6bb9c1ee0748c9c",
   "execution_count": 3
  },
  {
   "cell_type": "code",
   "outputs": [],
   "source": [
    "def embed_image_from_url(url):\n",
    "    img_data = download_image(url)\n",
    "    if img_data is None:\n",
    "        return np.zeros((1, 512))\n",
    "    img = load_image_bytes(img_data)\n",
    "    embedding = get_image_embeddings(img)\n",
    "    return embedding"
   ],
   "metadata": {
    "collapsed": false,
    "ExecuteTime": {
     "end_time": "2024-06-29T19:58:14.592280200Z",
     "start_time": "2024-06-29T19:58:14.581299500Z"
    }
   },
   "id": "148728665ee800b4",
   "execution_count": 4
  },
  {
   "cell_type": "code",
   "outputs": [],
   "source": [
    "if not os.path.exists(\"images\"):\n",
    "    os.mkdir(\"images/\")\n",
    "\n",
    "# .keep file to keep the directory in git\n",
    "with open(\"images/.keep\", 'w') as f:\n",
    "    pass"
   ],
   "metadata": {
    "collapsed": false,
    "ExecuteTime": {
     "end_time": "2024-06-29T19:47:20.670237200Z",
     "start_time": "2024-06-29T19:47:20.648617900Z"
    }
   },
   "id": "7d1c485fe79236f1",
   "execution_count": 25
  },
  {
   "cell_type": "code",
   "outputs": [
    {
     "name": "stdout",
     "output_type": "stream",
     "text": [
      "Processing Air Conditioners\n",
      "Processing All Appliances\n",
      "Processing All Books\n",
      "Processing All Car and Motorbike Products\n",
      "Processing All Electronics\n",
      "Processing All English\n",
      "Processing All Exercise and Fitness\n",
      "Processing All Grocery and Gourmet Foods\n",
      "Processing All Hindi\n",
      "Processing All Home and Kitchen\n"
     ]
    },
    {
     "data": {
      "text/plain": "  0%|          | 0/1224 [00:00<?, ?it/s]",
      "application/vnd.jupyter.widget-view+json": {
       "version_major": 2,
       "version_minor": 0,
       "model_id": "0516b02146c14788bcab678f4e68b259"
      }
     },
     "metadata": {},
     "output_type": "display_data"
    },
    {
     "name": "stderr",
     "output_type": "stream",
     "text": [
      "\n",
      "KeyboardInterrupt\n",
      "\n"
     ]
    }
   ],
   "source": [
    "with h5py.File(\"images/dataset.hdf5\", \"a\") as f:\n",
    "    for file in csv_dfs:\n",
    "        print(\"Processing\", file)\n",
    "        if file in f:\n",
    "            continue\n",
    "            \n",
    "        urls = csv_dfs[file][\"image\"]\n",
    "        \n",
    "        # apply embed_image_from_url to all the urls and create a pd.Series with the embeddings\n",
    "        embeddings = urls.progress_apply(embed_image_from_url)\n",
    "        # create a dataset for each file in a specific group\n",
    "        grp = f.create_group(file)\n",
    "        dataset = grp.create_dataset(\"images\", (len(urls), 1, embeddings[0].shape[1]), data=embeddings.to_list(),\n",
    "                                     shuffle=True, dtype='f', compression=\"gzip\", compression_opts=9)    "
   ],
   "metadata": {
    "collapsed": false,
    "ExecuteTime": {
     "end_time": "2024-06-29T14:40:59.307649900Z",
     "start_time": "2024-06-29T14:40:20.628642700Z"
    }
   },
   "id": "655f66e9bcce6945",
   "execution_count": 12
  },
  {
   "cell_type": "markdown",
   "source": [
    "### Usage"
   ],
   "metadata": {
    "collapsed": false
   },
   "id": "d390210e81c630f3"
  },
  {
   "cell_type": "code",
   "outputs": [
    {
     "name": "stdout",
     "output_type": "stream",
     "text": [
      "<KeysViewHDF5 ['Air Conditioners', 'All Appliances', 'All Books', 'All Car and Motorbike Products', 'All Electronics', 'All English', 'All Exercise and Fitness', 'All Grocery and Gourmet Foods', 'All Hindi']>\n",
      "(1, 512)\n"
     ]
    }
   ],
   "source": [
    "with h5py.File(\"images/dataset.hdf5\", \"r\") as f:\n",
    "    print(f.keys())\n",
    "    print(f[\"Air Conditioners\"][\"images\"][1].shape)"
   ],
   "metadata": {
    "collapsed": false,
    "ExecuteTime": {
     "end_time": "2024-06-29T19:52:08.285220100Z",
     "start_time": "2024-06-29T19:52:08.220022600Z"
    }
   },
   "id": "873d5b7eeb32b6d3",
   "execution_count": 6
  },
  {
   "cell_type": "markdown",
   "source": [
    "---\n",
    "# Multi-threading"
   ],
   "metadata": {
    "collapsed": false
   },
   "id": "84a4ad4f3b22b3b5"
  },
  {
   "cell_type": "code",
   "outputs": [],
   "source": [
    "urls = {file: csv_dfs[file][\"image\"] for file in csv_dfs}\n",
    "\n",
    "# only values 2 keys\n",
    "urls = {k: urls[k] for k in list(urls)[:16]}"
   ],
   "metadata": {
    "collapsed": false,
    "ExecuteTime": {
     "end_time": "2024-06-29T19:58:14.609287300Z",
     "start_time": "2024-06-29T19:58:14.587293100Z"
    }
   },
   "id": "9e158e66eb4e7d7",
   "execution_count": 5
  },
  {
   "cell_type": "code",
   "outputs": [],
   "source": [
    "def download_csv_images(file, img_urls):\n",
    "    # add \n",
    "    tqdm.pandas(desc=f\"{file}\", postfix=None)\n",
    "    embeddings = img_urls.progress_apply(embed_image_from_url)\n",
    "    with h5py.File(f\"images/{file}.hdf5\", \"a\") as f:\n",
    "        if \"images\" not in f:\n",
    "            dataset = f.create_dataset(\"images\", (len(img_urls), 1, embeddings[0].shape[1]), data=embeddings.to_list(),\n",
    "                                         shuffle=True, dtype='f', compression=\"gzip\", compression_opts=9)"
   ],
   "metadata": {
    "collapsed": false,
    "ExecuteTime": {
     "end_time": "2024-06-29T19:58:14.627308400Z",
     "start_time": "2024-06-29T19:58:14.601637800Z"
    }
   },
   "id": "6bd47a13256afe16",
   "execution_count": 6
  },
  {
   "cell_type": "code",
   "outputs": [
    {
     "data": {
      "text/plain": "Air Conditioners:   0%|          | 0/720 [00:00<?, ?it/s]",
      "application/vnd.jupyter.widget-view+json": {
       "version_major": 2,
       "version_minor": 0,
       "model_id": "f23b7837e5604f129f9bd0702e437c1a"
      }
     },
     "metadata": {},
     "output_type": "display_data"
    },
    {
     "data": {
      "text/plain": "All Appliances:   0%|          | 0/9576 [00:00<?, ?it/s]",
      "application/vnd.jupyter.widget-view+json": {
       "version_major": 2,
       "version_minor": 0,
       "model_id": "856c24c351474cb28f16f2258372bcb0"
      }
     },
     "metadata": {},
     "output_type": "display_data"
    },
    {
     "data": {
      "text/plain": "All Books: 0it [00:00, ?it/s]",
      "application/vnd.jupyter.widget-view+json": {
       "version_major": 2,
       "version_minor": 0,
       "model_id": "8141fb1d706347f198b9cc02f13a47b4"
      }
     },
     "metadata": {},
     "output_type": "display_data"
    },
    {
     "data": {
      "text/plain": "All Car and Motorbike Products:   0%|          | 0/1272 [00:00<?, ?it/s]",
      "application/vnd.jupyter.widget-view+json": {
       "version_major": 2,
       "version_minor": 0,
       "model_id": "498956d7ed724197b50957d0eb37806f"
      }
     },
     "metadata": {},
     "output_type": "display_data"
    },
    {
     "data": {
      "text/plain": "All Exercise and Fitness:   0%|          | 0/1176 [00:00<?, ?it/s]",
      "application/vnd.jupyter.widget-view+json": {
       "version_major": 2,
       "version_minor": 0,
       "model_id": "6bc9195a385b445f8916748ab2084305"
      }
     },
     "metadata": {},
     "output_type": "display_data"
    },
    {
     "data": {
      "text/plain": "All Hindi: 0it [00:00, ?it/s]",
      "application/vnd.jupyter.widget-view+json": {
       "version_major": 2,
       "version_minor": 0,
       "model_id": "8407f547dc22466d8db62284bcd3edb9"
      }
     },
     "metadata": {},
     "output_type": "display_data"
    },
    {
     "data": {
      "text/plain": "All Electronics:   0%|          | 0/9600 [00:00<?, ?it/s]",
      "application/vnd.jupyter.widget-view+json": {
       "version_major": 2,
       "version_minor": 0,
       "model_id": "2d97aebe1228481590bbf4eaf24361ae"
      }
     },
     "metadata": {},
     "output_type": "display_data"
    },
    {
     "data": {
      "text/plain": "All Pet Supplies:   0%|          | 0/648 [00:00<?, ?it/s]",
      "application/vnd.jupyter.widget-view+json": {
       "version_major": 2,
       "version_minor": 0,
       "model_id": "bd598d50b21542d68357cacd94dacf02"
      }
     },
     "metadata": {},
     "output_type": "display_data"
    },
    {
     "data": {
      "text/plain": "All English: 0it [00:00, ?it/s]",
      "application/vnd.jupyter.widget-view+json": {
       "version_major": 2,
       "version_minor": 0,
       "model_id": "755fa08a9c134993a2f5a190ce5cbcbb"
      }
     },
     "metadata": {},
     "output_type": "display_data"
    },
    {
     "data": {
      "text/plain": "All Music: 0it [00:00, ?it/s]",
      "application/vnd.jupyter.widget-view+json": {
       "version_major": 2,
       "version_minor": 0,
       "model_id": "22028259065c45089d16a68275a63bed"
      }
     },
     "metadata": {},
     "output_type": "display_data"
    },
    {
     "data": {
      "text/plain": "All Grocery and Gourmet Foods:   0%|          | 0/960 [00:00<?, ?it/s]",
      "application/vnd.jupyter.widget-view+json": {
       "version_major": 2,
       "version_minor": 0,
       "model_id": "4c7f169d4885412bb4e372a707604e8e"
      }
     },
     "metadata": {},
     "output_type": "display_data"
    },
    {
     "data": {
      "text/plain": "All Home and Kitchen:   0%|          | 0/1224 [00:00<?, ?it/s]",
      "application/vnd.jupyter.widget-view+json": {
       "version_major": 2,
       "version_minor": 0,
       "model_id": "2967888666c84358a5c3a778cfa7de5b"
      }
     },
     "metadata": {},
     "output_type": "display_data"
    },
    {
     "data": {
      "text/plain": "All Sports Fitness and Outdoors:   0%|          | 0/1224 [00:00<?, ?it/s]",
      "application/vnd.jupyter.widget-view+json": {
       "version_major": 2,
       "version_minor": 0,
       "model_id": "eda8548a5b304487b719a83062d952df"
      }
     },
     "metadata": {},
     "output_type": "display_data"
    },
    {
     "data": {
      "text/plain": "All Video Games: 0it [00:00, ?it/s]",
      "application/vnd.jupyter.widget-view+json": {
       "version_major": 2,
       "version_minor": 0,
       "model_id": "0fa06c19a15f4441bf037dbec9c0eb1a"
      }
     },
     "metadata": {},
     "output_type": "display_data"
    },
    {
     "data": {
      "text/plain": "Amazon Fashion:   0%|          | 0/2352 [00:00<?, ?it/s]",
      "application/vnd.jupyter.widget-view+json": {
       "version_major": 2,
       "version_minor": 0,
       "model_id": "2bf35ff90ec940ae889be8e21a8851d2"
      }
     },
     "metadata": {},
     "output_type": "display_data"
    },
    {
     "data": {
      "text/plain": "All Movies and TV Shows: 0it [00:00, ?it/s]",
      "application/vnd.jupyter.widget-view+json": {
       "version_major": 2,
       "version_minor": 0,
       "model_id": "53ca07b2dde94d1c8cc9413902d1a957"
      }
     },
     "metadata": {},
     "output_type": "display_data"
    }
   ],
   "source": [
    "from concurrent.futures import ThreadPoolExecutor\n",
    "import concurrent.futures\n",
    "\n",
    "with ThreadPoolExecutor(max_workers=16) as executor:\n",
    "    for file in urls:\n",
    "        executor.submit(download_csv_images, file, urls[file])"
   ],
   "metadata": {
    "collapsed": false,
    "is_executing": true,
    "ExecuteTime": {
     "start_time": "2024-06-29T19:58:15.807408200Z"
    }
   },
   "id": "4592b7f78ea42248",
   "execution_count": null
  },
  {
   "cell_type": "markdown",
   "source": [
    "---\n",
    "# Testing the embeddings"
   ],
   "metadata": {
    "collapsed": false
   },
   "id": "c11f281d70b11d81"
  },
  {
   "cell_type": "code",
   "outputs": [
    {
     "name": "stdout",
     "output_type": "stream",
     "text": [
      "Embeddings shape (720, 1, 512)\n",
      "0.32450312\n",
      "0.33937034\n",
      "0.33937034\n",
      "0.33937034\n",
      "0.36557698\n",
      "0.32078904\n",
      "0.29679808\n",
      "0.29679808\n",
      "0.34270072\n",
      "0.3252776\n",
      "0.26361418\n",
      "0.27883372\n",
      "0.3739883\n",
      "0.35587588\n",
      "0.3752666\n",
      "0.38051835\n",
      "0.29679808\n",
      "0.32746947\n",
      "0.31756395\n",
      "0.26076716\n",
      "0.2629915\n",
      "0.30895996\n",
      "0.33937034\n",
      "0.3739883\n",
      "0.26476973\n",
      "0.38754058\n",
      "0.29415733\n",
      "0.3863021\n",
      "0.23242761\n",
      "0.31756395\n",
      "0.30219442\n",
      "0.3592698\n",
      "0.3752666\n",
      "0.34920347\n",
      "0.30219442\n",
      "0.33937034\n",
      "0.27883372\n",
      "0.275722\n",
      "0.273017\n",
      "0.36314684\n",
      "0.36278927\n",
      "0.26132676\n",
      "0.2935021\n",
      "0.3101657\n",
      "0.2835472\n",
      "0.35587588\n",
      "0.28153965\n",
      "0.3380111\n",
      "0.33948916\n",
      "0.34173658\n",
      "0.37599438\n",
      "0.36557698\n",
      "0.29307726\n",
      "0.26476973\n",
      "0.31606075\n",
      "0.34920347\n",
      "0.37372002\n",
      "0.29774988\n",
      "0.29096532\n",
      "0.29676807\n",
      "0.38304275\n",
      "0.36517778\n",
      "0.2750073\n",
      "0.27212194\n",
      "0.29585546\n",
      "0.33019212\n",
      "0.3095168\n",
      "0.3880611\n",
      "0.24493861\n",
      "0.29942435\n",
      "0.30606925\n",
      "0.3268444\n",
      "0.2605198\n",
      "0.2757086\n",
      "0.33937034\n",
      "0.30219442\n",
      "0.3101177\n",
      "0.33745518\n",
      "0.29415733\n",
      "0.3730833\n",
      "0.28402275\n",
      "0.40402573\n",
      "0.31096005\n",
      "0.33019212\n",
      "0.29096532\n",
      "0.2664227\n",
      "0.27518934\n",
      "0.32981095\n",
      "0.3739883\n",
      "0.32136628\n",
      "0.28902805\n",
      "0.30606925\n",
      "0.33756244\n",
      "0.2668854\n",
      "0.29096532\n",
      "0.36962277\n",
      "0.24937466\n",
      "0.36278105\n",
      "0.34920347\n",
      "0.31918928\n",
      "0.3044241\n",
      "0.3101177\n",
      "0.24473509\n",
      "0.3034005\n",
      "0.3550431\n",
      "0.316018\n",
      "0.47643322\n",
      "0.2931342\n",
      "0.33196086\n",
      "0.30399606\n",
      "0.2688977\n",
      "0.2738435\n",
      "0.2953091\n",
      "0.297208\n",
      "0.33730012\n",
      "0.3253504\n",
      "0.25482187\n",
      "0.30219442\n",
      "0.26012623\n",
      "0.31993634\n",
      "0.29774988\n",
      "0.27271932\n",
      "0.31521082\n",
      "0.38157424\n",
      "0.3543929\n",
      "0.29008955\n",
      "0.32573915\n",
      "0.28174135\n",
      "0.36278105\n",
      "0.28976643\n",
      "0.31993634\n",
      "0.32582211\n",
      "0.3278463\n",
      "0.3212639\n",
      "0.31445968\n",
      "0.27586526\n",
      "0.38078773\n",
      "0.37917465\n",
      "0.29128474\n",
      "0.27405396\n",
      "0.3372216\n",
      "0.25606453\n",
      "0.29789656\n",
      "0.2775704\n",
      "0.0\n",
      "0.0\n",
      "0.0\n",
      "0.0\n",
      "0.0\n",
      "0.0\n",
      "0.0\n",
      "0.0\n",
      "0.0\n",
      "0.0\n",
      "0.0\n",
      "0.0\n",
      "0.0\n",
      "0.0\n",
      "0.0\n",
      "0.0\n",
      "0.0\n",
      "0.0\n",
      "0.0\n",
      "0.0\n",
      "0.0\n",
      "0.0\n",
      "0.0\n",
      "0.0\n",
      "0.3535434\n",
      "0.284697\n",
      "0.31777537\n",
      "0.23163627\n",
      "0.3044241\n",
      "0.3101177\n",
      "0.38078773\n",
      "0.27185994\n",
      "0.2935021\n",
      "0.32806158\n",
      "0.24937466\n",
      "0.27405396\n",
      "0.24413283\n",
      "0.26650155\n",
      "0.33941036\n",
      "0.23263675\n",
      "0.27272618\n",
      "0.28153965\n",
      "0.3752666\n",
      "0.3616003\n",
      "0.3101177\n",
      "0.35146913\n",
      "0.3194363\n",
      "0.32437158\n",
      "0.30475986\n",
      "0.33889264\n",
      "0.3182676\n",
      "0.30236536\n",
      "0.25322753\n",
      "0.306444\n",
      "0.31426325\n",
      "0.26658803\n",
      "0.312778\n",
      "0.28031915\n",
      "0.26132676\n",
      "0.29452625\n",
      "0.31691864\n",
      "0.23263675\n",
      "0.25277162\n",
      "0.34944227\n",
      "0.30043805\n",
      "0.26059878\n",
      "0.30275384\n",
      "0.2985437\n",
      "0.38935137\n",
      "0.38093537\n",
      "0.27775437\n",
      "0.2796312\n",
      "0.0\n",
      "0.0\n",
      "0.0\n",
      "0.0\n",
      "0.0\n",
      "0.0\n",
      "0.0\n",
      "0.0\n",
      "0.0\n",
      "0.0\n",
      "0.0\n",
      "0.0\n",
      "0.0\n",
      "0.0\n",
      "0.0\n",
      "0.0\n",
      "0.0\n",
      "0.0\n",
      "0.0\n",
      "0.0\n",
      "0.0\n",
      "0.0\n",
      "0.0\n",
      "0.0\n",
      "0.0\n",
      "0.0\n",
      "0.0\n",
      "0.0\n",
      "0.0\n",
      "0.0\n",
      "0.0\n",
      "0.0\n",
      "0.0\n",
      "0.0\n",
      "0.0\n",
      "0.0\n",
      "0.0\n",
      "0.0\n",
      "0.0\n",
      "0.0\n",
      "0.0\n",
      "0.0\n",
      "0.0\n",
      "0.0\n",
      "0.0\n",
      "0.0\n",
      "0.0\n",
      "0.0\n",
      "0.34929323\n",
      "0.3101177\n",
      "0.31904948\n",
      "0.29587293\n",
      "0.3042521\n",
      "0.3125093\n",
      "0.32116163\n",
      "0.279863\n",
      "0.29339352\n",
      "0.35760316\n",
      "0.34929323\n",
      "0.24789739\n",
      "0.30475986\n",
      "0.3097849\n",
      "0.3044241\n",
      "0.2718895\n",
      "0.3421603\n",
      "0.34551027\n",
      "0.30388033\n",
      "0.33806384\n",
      "0.34668714\n",
      "0.3449365\n",
      "0.27181238\n",
      "0.3592677\n",
      "0.32286322\n",
      "0.31142318\n",
      "0.29476684\n",
      "0.29326922\n",
      "0.27745175\n",
      "0.36294407\n",
      "0.33496416\n",
      "0.2809983\n",
      "0.25879171\n",
      "0.3198401\n",
      "0.34233022\n",
      "0.30250767\n",
      "0.25327748\n",
      "0.31863648\n",
      "0.32672322\n",
      "0.3138585\n",
      "0.31640336\n",
      "0.33842963\n",
      "0.3005387\n",
      "0.30148584\n",
      "0.335981\n",
      "0.26609486\n",
      "0.27500063\n",
      "0.32131997\n",
      "0.29717913\n",
      "0.33706054\n",
      "0.2796312\n",
      "0.35588843\n",
      "0.34756052\n",
      "0.26059878\n",
      "0.29622456\n",
      "0.31993634\n",
      "0.32814413\n",
      "0.30024466\n",
      "0.2795912\n",
      "0.2957583\n",
      "0.3044241\n",
      "0.27823558\n",
      "0.29389578\n",
      "0.30461717\n",
      "0.316444\n",
      "0.29590943\n",
      "0.2699707\n",
      "0.29830456\n",
      "0.26029378\n",
      "0.2809767\n",
      "0.34601855\n",
      "0.33841348\n",
      "0.0\n",
      "0.0\n",
      "0.0\n",
      "0.0\n",
      "0.0\n",
      "0.0\n",
      "0.0\n",
      "0.0\n",
      "0.0\n",
      "0.0\n",
      "0.0\n",
      "0.0\n",
      "0.0\n",
      "0.0\n",
      "0.0\n",
      "0.0\n",
      "0.0\n",
      "0.0\n",
      "0.0\n",
      "0.0\n",
      "0.0\n",
      "0.0\n",
      "0.0\n",
      "0.0\n",
      "0.0\n",
      "0.0\n",
      "0.0\n",
      "0.0\n",
      "0.0\n",
      "0.0\n",
      "0.0\n",
      "0.0\n",
      "0.0\n",
      "0.0\n",
      "0.0\n",
      "0.0\n",
      "0.0\n",
      "0.0\n",
      "0.0\n",
      "0.0\n",
      "0.0\n",
      "0.0\n",
      "0.0\n",
      "0.0\n",
      "0.0\n",
      "0.0\n",
      "0.0\n",
      "0.0\n",
      "0.3760051\n",
      "0.3480383\n",
      "0.3007313\n",
      "0.27181977\n",
      "0.28210783\n",
      "0.28383535\n",
      "0.3189719\n",
      "0.34734005\n",
      "0.3449365\n",
      "0.27801913\n",
      "0.24876346\n",
      "0.33923155\n",
      "0.26472563\n",
      "0.2864793\n",
      "0.27801913\n",
      "0.33212006\n",
      "0.27647394\n",
      "0.27518934\n",
      "0.32323855\n",
      "0.27599317\n",
      "0.30765426\n",
      "0.28508455\n",
      "0.33269066\n",
      "0.29359567\n",
      "0.0\n",
      "0.0\n",
      "0.0\n",
      "0.0\n",
      "0.0\n",
      "0.0\n",
      "0.0\n",
      "0.0\n",
      "0.0\n",
      "0.0\n",
      "0.0\n",
      "0.0\n",
      "0.0\n",
      "0.0\n",
      "0.0\n",
      "0.0\n",
      "0.0\n",
      "0.0\n",
      "0.0\n",
      "0.0\n",
      "0.0\n",
      "0.0\n",
      "0.0\n",
      "0.0\n",
      "0.3324369\n",
      "0.33922625\n",
      "0.27319527\n",
      "0.31925756\n",
      "0.28072834\n",
      "0.27954927\n",
      "0.30616033\n",
      "0.2971411\n",
      "0.39502442\n",
      "0.29274166\n",
      "0.28554106\n",
      "0.27857912\n",
      "0.36222792\n",
      "0.33321986\n",
      "0.30597562\n",
      "0.41438958\n",
      "0.31383708\n",
      "0.27225608\n",
      "0.31700647\n",
      "0.26256725\n",
      "0.25577763\n",
      "0.31675547\n",
      "0.2420986\n",
      "0.26726893\n",
      "0.35437092\n",
      "0.32019055\n",
      "0.3428886\n",
      "0.28811485\n",
      "0.32613719\n",
      "0.32338825\n",
      "0.3016715\n",
      "0.29185665\n",
      "0.3304662\n",
      "0.3155029\n",
      "0.35923713\n",
      "0.36590025\n",
      "0.34822422\n",
      "0.29791892\n",
      "0.32511994\n",
      "0.32631958\n",
      "0.44153547\n",
      "0.2749528\n",
      "0.2483044\n",
      "0.26532292\n",
      "0.28901413\n",
      "0.33949238\n",
      "0.33949238\n",
      "0.3106601\n",
      "0.31038773\n",
      "0.2772456\n",
      "0.26838955\n",
      "0.31460902\n",
      "0.27777508\n",
      "0.27640006\n",
      "0.2982307\n",
      "0.30284086\n",
      "0.25843525\n",
      "0.27151003\n",
      "0.29455104\n",
      "0.28009152\n",
      "0.30277318\n",
      "0.27865875\n",
      "0.2775988\n",
      "0.31619233\n",
      "0.28947717\n",
      "0.3287799\n",
      "0.25684887\n",
      "0.33035743\n",
      "0.2285424\n",
      "0.33352783\n",
      "0.31665075\n",
      "0.34142047\n",
      "0.0\n",
      "0.0\n",
      "0.0\n",
      "0.0\n",
      "0.0\n",
      "0.0\n",
      "0.0\n",
      "0.0\n",
      "0.0\n",
      "0.0\n",
      "0.0\n",
      "0.0\n",
      "0.0\n",
      "0.0\n",
      "0.0\n",
      "0.0\n",
      "0.0\n",
      "0.0\n",
      "0.0\n",
      "0.0\n",
      "0.0\n",
      "0.0\n",
      "0.0\n",
      "0.0\n",
      "0.0\n",
      "0.0\n",
      "0.0\n",
      "0.0\n",
      "0.0\n",
      "0.0\n",
      "0.0\n",
      "0.0\n",
      "0.0\n",
      "0.0\n",
      "0.0\n",
      "0.0\n",
      "0.0\n",
      "0.0\n",
      "0.0\n",
      "0.0\n",
      "0.0\n",
      "0.0\n",
      "0.0\n",
      "0.0\n",
      "0.0\n",
      "0.0\n",
      "0.0\n",
      "0.0\n",
      "0.3182595\n",
      "0.26279598\n",
      "0.2763973\n",
      "0.26489198\n",
      "0.32065538\n",
      "0.25902173\n",
      "0.26059926\n",
      "0.36322024\n",
      "0.27504706\n",
      "0.33970958\n",
      "0.33970958\n",
      "0.33970958\n",
      "0.25794902\n",
      "0.2573824\n",
      "0.33461618\n",
      "0.33487654\n",
      "0.28755957\n",
      "0.232713\n",
      "0.23776075\n",
      "0.27495268\n",
      "0.3759433\n",
      "0.32596368\n",
      "0.32596368\n",
      "0.3759433\n",
      "0.33358788\n",
      "0.30195695\n",
      "0.30195695\n",
      "0.2794675\n",
      "0.30381423\n",
      "0.30514526\n",
      "0.30514526\n",
      "0.30514526\n",
      "0.34357926\n",
      "0.36927864\n",
      "0.31775814\n",
      "0.35137573\n",
      "0.344238\n",
      "0.3357929\n",
      "0.31939936\n",
      "0.2853278\n",
      "0.31939936\n",
      "0.42740074\n",
      "0.29096532\n",
      "0.27997\n",
      "0.35733917\n",
      "0.25205082\n",
      "0.2333453\n",
      "0.2725351\n",
      "0.30081874\n",
      "0.27897063\n",
      "0.33051306\n",
      "0.29689267\n",
      "0.2898621\n",
      "0.29619753\n",
      "0.2853278\n",
      "0.2786567\n",
      "0.2966203\n",
      "0.2786567\n",
      "0.28073502\n",
      "0.35611093\n",
      "0.33042756\n",
      "0.32879865\n",
      "0.3234731\n",
      "0.29096532\n",
      "0.26461315\n",
      "0.2979208\n",
      "0.27097172\n",
      "0.30333984\n",
      "0.27097172\n",
      "0.31136227\n",
      "0.29309952\n",
      "0.31029958\n",
      "0.28765985\n",
      "0.27599317\n",
      "0.29560935\n",
      "0.31285664\n",
      "0.29676437\n",
      "0.31743675\n",
      "0.2919022\n",
      "0.26384458\n",
      "0.27495328\n",
      "0.26703614\n",
      "0.27129152\n",
      "0.30459064\n",
      "0.31893918\n",
      "0.28913444\n",
      "0.32485652\n",
      "0.29128474\n",
      "0.41772476\n",
      "0.31257674\n",
      "0.35961166\n",
      "0.24876346\n",
      "0.2903331\n",
      "0.27983755\n",
      "0.28265387\n",
      "0.36823577\n",
      "0.36780906\n",
      "0.28772604\n",
      "0.3134951\n",
      "0.31116605\n",
      "0.29008353\n",
      "0.3782084\n",
      "0.38200635\n",
      "0.28620785\n",
      "0.3198073\n",
      "0.299809\n",
      "0.26732698\n",
      "0.28301504\n",
      "0.26185864\n",
      "0.32423398\n",
      "0.39703113\n",
      "0.39734548\n",
      "0.3032325\n",
      "0.3032325\n",
      "0.29940468\n",
      "0.2998013\n",
      "0.36455014\n",
      "0.29230195\n",
      "0.31322473\n",
      "0.4096095\n",
      "0.36009496\n",
      "0.33912385\n",
      "0.2908031\n",
      "0.363581\n",
      "0.31108415\n",
      "0.3399062\n",
      "0.34261367\n",
      "0.3313201\n",
      "0.3313201\n",
      "0.31331527\n",
      "0.39315718\n",
      "0.30873293\n",
      "0.30179965\n",
      "0.305164\n",
      "0.30996406\n",
      "0.3204165\n",
      "0.31235194\n",
      "0.30256402\n",
      "0.30341035\n",
      "0.299062\n",
      "0.34820288\n",
      "0.31867912\n",
      "0.25545362\n",
      "0.35857737\n",
      "0.42371327\n",
      "0.37478933\n",
      "0.4281475\n",
      "0.39295384\n",
      "0.3381067\n",
      "0.44251484\n",
      "0.44177666\n",
      "0.5032021\n",
      "0.5086134\n",
      "0.36811322\n",
      "0.465887\n",
      "0.40983617\n",
      "0.3775006\n",
      "0.37704068\n",
      "0.35239893\n",
      "0.40796167\n",
      "0.18545344\n",
      "0.4439329\n",
      "0.34463698\n",
      "0.41890275\n",
      "0.39435685\n",
      "0.39678848\n",
      "0.37212488\n",
      "0.3707209\n"
     ]
    }
   ],
   "source": [
    "input_img_path = \"sunflower/sunflower1.jpg\"\n",
    "input_img = load_image(input_img_path)\n",
    "input_embedding = get_image_embeddings(input_img)\n",
    "\n",
    "with h5py.File(\"images/dataset.hdf5\", \"r\") as f:\n",
    "    embeddings = f[\"Air Conditioners\"][\"images\"]\n",
    "    print(\"Embeddings shape\", embeddings.shape)\n",
    "    for embedding in embeddings:\n",
    "        embedding_score = get_score(input_embedding, embedding)[0][0]\n",
    "        print(embedding_score)"
   ],
   "metadata": {
    "collapsed": false,
    "ExecuteTime": {
     "end_time": "2024-06-29T15:00:07.759380100Z",
     "start_time": "2024-06-29T15:00:06.691221300Z"
    }
   },
   "id": "c0ab568e46d5fef7",
   "execution_count": 5
  }
 ],
 "metadata": {
  "kernelspec": {
   "display_name": "Python 3",
   "language": "python",
   "name": "python3"
  },
  "language_info": {
   "codemirror_mode": {
    "name": "ipython",
    "version": 2
   },
   "file_extension": ".py",
   "mimetype": "text/x-python",
   "name": "python",
   "nbconvert_exporter": "python",
   "pygments_lexer": "ipython2",
   "version": "2.7.6"
  }
 },
 "nbformat": 4,
 "nbformat_minor": 5
}
